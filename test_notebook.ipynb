{
 "cells": [
  {
   "cell_type": "markdown",
   "id": "f0a722c8",
   "metadata": {},
   "source": [
    " <html>\n",
    "     <div style=\"width:100%\">\n",
    "       <div style=\"float:left\"><a href=\"https://mybinder.org/v2/gl/benloveday%2Fbadge_test/main?labpath=test_notebook.ipynb\"><img src=\"https://mybinder.org/badge_logo.svg\" alt=\"Open in Binder\"></a></div>\n",
    "       <div style=\"float:left\">&nbsp&nbsp&nbsp</div>\n",
    "       <div style=\"float:left\"><a href=\"https://colab.research.google.com/github/CapeHobbit/badge_test/blob/main/test_notebook.ipynb\"><img src=\"https://colab.research.google.com/assets/colab-badge.svg\" alt=\"Open In Colab\" /></a></div>\n",
    "       <div style=\"float:left\">&nbsp&nbsp&nbsp</div>\n",
    "       <div style=\"float:left\"><a href=\"https://studiolab.sagemaker.aws/import/github/CapeHobbit/blob/main/badge_test/test_notebook.ipynb\"><img src=\"https://studiolab.sagemaker.aws/studiolab.svg\" alt=\"Open In Studio Lab\"/></a></div>\n",
    "     </div>\n",
    "</html>"
   ]
  },
  {
   "cell_type": "code",
   "execution_count": null,
   "id": "4b07c5f3",
   "metadata": {},
   "outputs": [],
   "source": [
    "import xarray\n",
    "import shapely\n",
    "import matplotlib.pyplot as plt\n",
    "import numpy as np"
   ]
  },
  {
   "cell_type": "code",
   "execution_count": null,
   "id": "ef266dc4",
   "metadata": {},
   "outputs": [],
   "source": [
    "print(\"hello world\")"
   ]
  },
  {
   "cell_type": "code",
   "execution_count": null,
   "id": "b2f182c8",
   "metadata": {},
   "outputs": [],
   "source": [
    "array = np.random.rand(100, 100)"
   ]
  },
  {
   "cell_type": "code",
   "execution_count": null,
   "id": "7d02520d",
   "metadata": {},
   "outputs": [],
   "source": [
    "plt.imshow(array)\n",
    "plt.show()"
   ]
  }
 ],
 "metadata": {
  "kernelspec": {
   "display_name": "Python 3 (ipykernel)",
   "language": "python",
   "name": "python3"
  },
  "language_info": {
   "codemirror_mode": {
    "name": "ipython",
    "version": 3
   },
   "file_extension": ".py",
   "mimetype": "text/x-python",
   "name": "python",
   "nbconvert_exporter": "python",
   "pygments_lexer": "ipython3",
   "version": "3.9.9"
  }
 },
 "nbformat": 4,
 "nbformat_minor": 5
}
